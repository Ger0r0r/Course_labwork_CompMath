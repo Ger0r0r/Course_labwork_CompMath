{
 "cells": [
  {
   "cell_type": "markdown",
   "metadata": {},
   "source": [
    "# Лабораторная работа по Вычислительной Математике\n",
    "\n",
    "## Задачи\n",
    "\n",
    "1) Сравнить численные решения, полученные по разностным схемам \n",
    "* Лакса (Л), \n",
    "* Куранта-Изаксона-Риса (КИР), \n",
    "* Лакса-Вендоффа (ЛВ), \n",
    "* Уорминга-Кутлера-Ломакса (УКЛ)\n",
    "\n",
    "для уравнения переноса в дивергентной и недивергентной формах:\n",
    "\n",
    "$$\\frac{∂ u}{∂ t} + u\\frac{∂ u}{∂ x} = 0,$$\n",
    "\n",
    "$$\\frac{∂ u}{∂ t} + \\frac{∂ (u^2)}{∂ x} = 0$$\n",
    "\n",
    "Начальные профили представлены на рисунке\n",
    "\n",
    "<p align=center><img src=\"./graph.png\" height=300 width=800></p>\n",
    "\n",
    "2) Исследовать сходимость численных решений по сетке (при $h → 0$, где $h$ $-$ шаг сетки)"
   ]
  },
  {
   "cell_type": "markdown",
   "metadata": {},
   "source": [
    "## Теория\n",
    "\n",
    "Зная, что $\\frac{∂(u^2/2)}{∂x} = u\\frac{∂u}{∂x}$, то\n",
    "\n",
    "$$\\frac{∂ u}{∂ t} + u\\frac{∂ u}{∂ t} ≡ \\frac{∂ u}{∂ t} + \\frac{∂ (u^2)}{∂ t} = \\frac{∂ u}{∂ t} + \\frac{∂ f}{∂ t} = 0$$\n",
    "\n",
    "**Схема Лакса**\n",
    "\n",
    "Порядок аппроксимации: $O(\\tau + h^2 + h^2/\\tau)$\n",
    "\n",
    "$$\\frac{u^{n+1}_m + 0.5(u^n_{m+1} + u^n_{m-1})}{\\tau} + \\frac{f^n_{m+1} - f^n_{m-1}}{h^2} = 0$$\n",
    "\n",
    "**Схема Куранта - Изаксона - Риса**\n",
    "\n",
    "Порядок аппроксимации: $O(\\tau + h)$\n",
    "\n",
    "$$\\frac{u^{n+1}_m + u^n_m}{\\tau} + \\frac{f^n_{m+1} - f^n_m}{h^2} = 0, \\hspace{1cm} u^n_m < 0,$$\n",
    "$$\\frac{u^{n+1}_m + u^n_m}{\\tau} + \\frac{f^n_m - f^n_{m-1}}{h^2} = 0, \\hspace{1cm} u^n_m > 0$$\n",
    "\n",
    "**Схема Лакса-Вендоффа**\n",
    "\n",
    "Порядок аппроксимации: $O(\\tau ^2 + h^2)$\n",
    "\n",
    "*1 шаг*\n",
    "$$\\frac{u^{n+1/2}_{m+1/2} + 0.5(u^n_{m+1} + u^n_{m-1})}{\\tau /2} + \\frac{f^n_{m+1} - f^n_m}{h^2} = 0,$$\n",
    "$$\\frac{u^{n+1/2}_{m-1/2} + 0.5(u^n_{m+1} + u^n_{m-1})}{\\tau /2} + \\frac{f^n_m - f^n_{m-1}}{h^2} = 0$$\n",
    "*2 шаг*\n",
    "$$\\frac{u^{n+1}_m + u^n_m}{\\tau} + \\frac{f^{n+1/2}_{m+1/2} - f^{n+1/2}_{m-1/2}}{h^2} = 0$$\n",
    "\n",
    "**Схема Уорминга-Кутлера-Ломакса**\n",
    "\n",
    "Порядок аппроксимации: $O(\\tau ^3 + h^3)$\n",
    "\n",
    "*1 шаг*\n",
    "$$\\frac{u^{n+1/3}_m + u^n_m}{2\\tau /3} + \\frac{f^n_{m+1} - f^n_m}{h^2} = 0,$$\n",
    "$$\\frac{u^{n-1/3}_m + u^n_m}{2\\tau /3} + \\frac{f^n_m - f^n_{m-1}}{h^2} = 0$$\n",
    "*2 шаг*\n",
    "$$\\frac{u^{n+2/3}_m + 0.5(u^n_m + u^{n+1/3}_m)}{\\tau /2} + \\frac{f^{n+1/3}_m - f^{n+1/3}_{m-1}}{h^2} = 0,$$\n",
    "$$\\frac{u^{n+2/3}_m + 0.5(u^n_m + u^{n+1/3}_m)}{\\tau /2} + \\frac{f^{n+1/3}_{m+1} - f^{n+1/3}_m}{h^2} = 0$$\n",
    "*3 шаг*\n",
    "$$\\frac{u^{n+1}_m + u^n_m}{\\tau} + \\frac{3}{8}\\frac{f^{n+1/3}_{m+1} - f^{n+1/3}_{m-1}}{h} + \\frac{-2f^n_{m-2} + 7f^n_{m-1} - 7f^n_{m+1} + 2f^n_{m+2}}{h} + \\frac{\\omega}{24}(u^n_{m-2} - 4u^n_{m-1} + 6u^n_m - 4u^n_{m+1} + u^n_{m+2}) = 0,$$\n",
    "\n",
    "где $\\omega$ выбирается из условия: $4\\sigma^2 - \\sigma^4 < \\omega < 3$ "
   ]
  },
  {
   "cell_type": "markdown",
   "metadata": {},
   "source": [
    "### Устойчивость\n",
    "\n",
    "Разностные схемы для решения однородного линейного уравнения переноса ($\\frac{∂ u}{∂ t} + \\frac{∂ u}{∂ x} = 0$) являются устойчивыми, если число Куранта ($\\sigma$) меньше или равно 1:\n",
    "\n",
    "$$\\sigma = \\tau/h ≤ 1$$\n",
    "\n",
    "При использовании разностных схем для решения дивергентного уравнения переноса условия Куранта модифицируется\n",
    "\n",
    "$$\\frac{\\tau}{h} |\\max_{m} u^n_m| ≤ 1$$\n",
    "\n",
    "$$\\frac{u^n_m - u^n_{m-1}}{\\tau} = 0$$"
   ]
  },
  {
   "cell_type": "markdown",
   "metadata": {},
   "source": [
    "## Ход работы\n",
    "\n",
    "Для нашей задачи выберем $H = 10$, $l =3$, $L = 7$, $X = 10$, $T = 10$."
   ]
  },
  {
   "cell_type": "code",
   "execution_count": 18,
   "metadata": {},
   "outputs": [
    {
     "data": {
      "image/png": "[encoded data removed]",
      "text/plain": [
       "<Figure size 1350x500 with 2 Axes>"
      ]
     },
     "metadata": {},
     "output_type": "display_data"
    }
   ],
   "source": [
    "import pandas as pd\n",
    "import numpy as np\n",
    "import sympy as sp\n",
    "import matplotlib.pyplot as plt\n",
    "\n",
    "H = 10\n",
    "l = 3\n",
    "L = 7\n",
    "X = 10\n",
    "T = 10\n",
    "\n",
    "def calc_sigma (ts, xs, u):\n",
    "\treturn ts/xs*np.max(u)\n",
    "\n",
    "def calc_initial_t (t):\n",
    "\tif t < l or t >= L:\n",
    "\t\treturn 0\n",
    "\tif t >= l and t < (l+L)/2:\n",
    "\t\treturn (2*H/(L-l))*(t-l)\n",
    "\tif t >= (l+L)/2 and t < L:\n",
    "\t\treturn -(2*H/(L-l))*t+35\n",
    "\n",
    "def calc_initial_x (x):\n",
    "\tif x < l or x >= L:\n",
    "\t\treturn 0\n",
    "\tif x >= l and x < L:\n",
    "\t\treturn H\n",
    "\n",
    "def left_angel(ud, udl, xs, ts):\n",
    "    return sp.solveset((x-ud)/ts-(ud*ud-udl*udl)/(2*xs), x)\n",
    "\n",
    "def sceme_L(ud, udl, xs, ts):\n",
    "    return sp.solveset((x - ud)/ts - (ud*ud - udl * udl)/xs, x)\n",
    "\n",
    "def sceme_CIR(ud, udl, xs, ts):\n",
    "    return sp.solveset((x - ud)/ts - (ud*ud - udl * udl)/xs, x)\n",
    "\n",
    "def sceme_LF(ud, udl, xs, ts):\n",
    "    return sp.solveset((x - ud)/ts - (ud*ud - udl * udl)/xs, x)\n",
    "\n",
    "def sceme_WCL(ud, udl, xs, ts):\n",
    "    return sp.solveset((x - ud)/ts - (ud*ud - udl * udl)/xs, x)\n",
    "\n",
    "ts = 0.01\n",
    "xs = 0.1\n",
    "\n",
    "Nx = int(X/xs)+1\n",
    "Nt = int(T/ts)+1\n",
    "\n",
    "# print(Nx, Nt)\n",
    "\n",
    "# Инициализация начальных данных сетки\n",
    "u = np.full((Nt,Nx), 0, dtype=\"float32\")\n",
    "u[0,:] = np.linspace(0,X,Nx)\n",
    "u[:,0] = np.linspace(0,T,Nt)\n",
    "for i in range (0, Nx):\n",
    "\tu[0,i] = calc_initial_x(u[0,i])\n",
    "for i in range (0, Nt):\n",
    "    u[i,0] = calc_initial_t(u[i,0])\n",
    "# print(u)\n",
    "\n",
    "# Сохранение данных в таблицу excel\n",
    "df = pd.DataFrame(data=u)\n",
    "df.to_excel(\"u.xlsx\")\n",
    "\n",
    "# Создание 3D графика\n",
    "x = np.linspace(0, X, Nx)\n",
    "t = np.linspace(0, T, Nt)\n",
    "\n",
    "fig = plt.figure(figsize = [13.5, 5], dpi = 100)\n",
    "fig = plt.pcolormesh(x, t, u, cmap=plt.get_cmap('Purples'))\n",
    "fig = plt.colorbar()\n",
    "\n",
    "fig = plt.xlabel('x')\n",
    "fig = plt.ylabel('t')\n",
    "fig = plt.title('График функции u(x,t)')\n",
    "fig = plt.ylim([0, T])\n",
    "fig = plt.tight_layout()\n",
    "\n",
    "plt.show()"
   ]
  },
  {
   "cell_type": "code",
   "execution_count": null,
   "metadata": {},
   "outputs": [],
   "source": [
    "# Решения схемой Л\n"
   ]
  }
 ],
 "metadata": {
  "kernelspec": {
   "display_name": "Python 3.10.8 64-bit (microsoft store)",
   "language": "python",
   "name": "python3"
  },
  "language_info": {
   "codemirror_mode": {
    "name": "ipython",
    "version": 3
   },
   "file_extension": ".py",
   "mimetype": "text/x-python",
   "name": "python",
   "nbconvert_exporter": "python",
   "pygments_lexer": "ipython3",
   "version": "3.10.8"
  },
  "orig_nbformat": 4,
  "vscode": {
   "interpreter": {
    "hash": "4f1660c605d10501f0c9451515410889342d5c249548c50d721f75e5649c03cc"
   }
  }
 },
 "nbformat": 4,
 "nbformat_minor": 2
}
